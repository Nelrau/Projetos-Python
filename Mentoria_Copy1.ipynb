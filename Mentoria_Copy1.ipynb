{
  "cells": [
    {
      "cell_type": "markdown",
      "metadata": {
        "id": "view-in-github",
        "colab_type": "text"
      },
      "source": [
        "<a href=\"https://colab.research.google.com/github/Nelrau/Projetos-Python/blob/master/Mentoria_Copy1.ipynb\" target=\"_parent\"><img src=\"https://colab.research.google.com/assets/colab-badge.svg\" alt=\"Open In Colab\"/></a>"
      ]
    },
    {
      "cell_type": "markdown",
      "id": "a2fee89b",
      "metadata": {
        "id": "a2fee89b"
      },
      "source": [
        "### Forma de pensar"
      ]
    },
    {
      "cell_type": "code",
      "execution_count": null,
      "id": "1be9db7d",
      "metadata": {
        "id": "1be9db7d"
      },
      "outputs": [],
      "source": [
        "# coisas simples: atravessar a rua (mostrar os diferentes níveis de abstração que dá para fazer)\n",
        "\n",
        "\n",
        "# tomar café da manhã (mostrar os diferentes níveis de abstração que dá para fazer)\n",
        "\n",
        "\n",
        "# Shampoo (pegar um shampoo aqui de casa e ler)"
      ]
    },
    {
      "cell_type": "markdown",
      "id": "672e10e0",
      "metadata": {
        "id": "672e10e0"
      },
      "source": [
        "### Exemplo de Exercício do Curso"
      ]
    },
    {
      "cell_type": "markdown",
      "id": "fee80189",
      "metadata": {
        "id": "fee80189"
      },
      "source": [
        "#### 23. Faça um Programa para uma loja de tintas. O programa deverá pedir o tamanho em metros quadrados da área a ser pintada. Considere que a cobertura da tinta é de 1 litro para cada 6 metros quadrados e que a tinta é vendida em latas de 18 litros, que custam R\\\\$ 80,00 ou em galões de 3,6 litros, que custam R\\\\$ 25,00."
      ]
    },
    {
      "cell_type": "code",
      "execution_count": null,
      "id": "4499bb83",
      "metadata": {
        "id": "4499bb83"
      },
      "outputs": [],
      "source": [
        "def vender_tinta():\n",
        "  try:\n",
        "    m = int(input('Area a ser pintado? '))\n",
        "  except:\n",
        "    print('precisamos de numero de area para completar o atendimento: ')\n",
        "    m = int(input('Area a ser pintada?'))\n",
        "  l_tinta = m / 6\n",
        "  custo_l = 80\n",
        "  custo_g = 25\n",
        "  lata = l_tinta // 18\n",
        "  galao = l_tinta % 18\n",
        "  if l_tinta:\n",
        "    print(f' Total {l_tinta:.2f}L')\n",
        "    if l_tinta >= 18:\n",
        "      if galao == 0:\n",
        "        galao = 0\n",
        "      elif galao < 3.6:\n",
        "        galao = 1\n",
        "      print(f' Compre {lata} lata de 18L e {galao:.0f} galão 3,6L por R${lata * custo_l + galao * custo_g:.2f}')\n",
        "    elif l_tinta >= 3.6:\n",
        "      galao = (l_tinta // 3.6) + 1\n",
        "      if (galao * 3.6) == 18:\n",
        "        if custo_l * lata < custo_g * galao:\n",
        "          lata = 1\n",
        "          print(f'Compre {lata} lata com {lata * 18}L por R$ 80,00')\n",
        "        else:\n",
        "          print(f'Compre {galao:.0f} galão de 3,6L {galao * 3.6}L por R${galao * 25:.2f}')\n",
        "      else:\n",
        "        print(f'Compre {galao:.0f} galão de 3,6L {galao * 3.6}L por R${galao * 25:.2f}')\n",
        "    else:\n",
        "      galao = 1\n",
        "      print(f'Compre {galao:.0f} galões de 3.6L por R$ 25,00')\n",
        "  else:\n",
        "    print('Erro no sistema tente mais tarde')\n"
      ]
    },
    {
      "cell_type": "code",
      "source": [
        "tinta = vender_tinta()"
      ],
      "metadata": {
        "colab": {
          "base_uri": "https://localhost:8080/"
        },
        "id": "ubnHXM5MXEwr",
        "outputId": "1b666b03-81f6-445d-de6a-933f6129c0fa"
      },
      "id": "ubnHXM5MXEwr",
      "execution_count": null,
      "outputs": [
        {
          "output_type": "stream",
          "name": "stdout",
          "text": [
            "Area a ser pintado? 80\n",
            " Total 13.33L\n",
            "Compre 4 galão de 3,6L 14.4L por R$100.00\n"
          ]
        }
      ]
    },
    {
      "cell_type": "markdown",
      "id": "0d5fa10a",
      "metadata": {
        "id": "0d5fa10a"
      },
      "source": [
        "##### Informe ao usuário as quantidades de tinta a serem compradas e os respectivos preços em 3 situações.\n",
        "\n",
        "Dica: lembre dos operadores // e % mostrados em exercícios anteriores<br>\n",
        "Dica1: numero // 10 vai te dar como resposta a parte inteira da divisão do número por 10.<br>\n",
        "Dica2: numero % 10 vai te dar o resto da divisão do número por 10.\n",
        "\n",
        "##### 1. Comprar apenas latas de 18 litros: (apenas latas inteiras)"
      ]
    },
    {
      "cell_type": "code",
      "execution_count": null,
      "id": "bc38cdcd",
      "metadata": {
        "id": "bc38cdcd"
      },
      "outputs": [],
      "source": []
    },
    {
      "cell_type": "markdown",
      "id": "15dc7322",
      "metadata": {
        "id": "15dc7322"
      },
      "source": [
        "##### 2. Comprar apenas galões de 3,6 litros: (apenas galoes inteiros)"
      ]
    },
    {
      "cell_type": "code",
      "execution_count": null,
      "id": "6e0a01af",
      "metadata": {
        "id": "6e0a01af"
      },
      "outputs": [],
      "source": []
    },
    {
      "cell_type": "markdown",
      "id": "35e0aa11",
      "metadata": {
        "id": "35e0aa11"
      },
      "source": [
        "##### 3. Misturar latas e galões, de forma que o desperdício de tinta seja menor. Sempre arredonde os valores para cima, isto é, considere latas cheias."
      ]
    },
    {
      "cell_type": "markdown",
      "id": "95a3d342",
      "metadata": {
        "id": "95a3d342"
      },
      "source": [
        "O custo da lata é 80/18 = 4,44 R\\\\$/L\n",
        "\n",
        "O custo do galão é 25/3,6 = 6,94 R\\\\$/L\n",
        "\n",
        "A lata é mais econômica, então todas as latas inteiras que pudermos usar devemos comprar em latas. Se ficar faltando alguma coisa para completar devemos avaliar se é melhor comprar latas ou galões. Exemplo:\n",
        "\n",
        "Se queremos comprar 90 litros. 5 latas dão exatamente 90 litros. Então devemos comprar tudo em latas.\n",
        "\n",
        "Se queremos comprar 95 litros. 5 latas dão exatamente 90 litros. Então devemos comprar pelo menos 5 latas e avaliar o que falta, se estes últimos 5 litros valem mais apenas em latas ou galões.\n",
        "\n",
        "Para os 5 litros faltantes precisamos de 2 galões que custam 50 reais no total. Ou de uma lata que custa 80 reais no total. Portanto, neste caso vale mais a pena usar 2 galões.\n",
        "\n",
        "Se queremos comprar 107 litros. 5 latas dão exatamente 90 litros. Então devemos comprar pelo menos 5 latas e avaliar o que falta, se estes últimos 5 litros valem mais apenas em latas ou galões.\n",
        "\n",
        "Para os 17 litros faltantes precisamos de 5 galões que custam 125 reais no total. Ou de uma lata que custa 80 reais no total. Portanto, neste caso vale mais a pena usar uma lata.\n",
        "\n",
        "3 galões custam 75 reais, 4 galões custam 100 reais. Então, se for possível completar com até 3 galões escolhe-se galões. Qualquer quantidade maior que 3 galões, usa-se latas.\n",
        "\n",
        "Podemos ir ao exercício:"
      ]
    },
    {
      "cell_type": "code",
      "execution_count": null,
      "id": "0e9847d9",
      "metadata": {
        "id": "0e9847d9"
      },
      "outputs": [],
      "source": []
    }
  ],
  "metadata": {
    "kernelspec": {
      "display_name": "Python 3 (ipykernel)",
      "language": "python",
      "name": "python3"
    },
    "language_info": {
      "codemirror_mode": {
        "name": "ipython",
        "version": 3
      },
      "file_extension": ".py",
      "mimetype": "text/x-python",
      "name": "python",
      "nbconvert_exporter": "python",
      "pygments_lexer": "ipython3",
      "version": "3.9.7"
    },
    "colab": {
      "provenance": [],
      "include_colab_link": true
    }
  },
  "nbformat": 4,
  "nbformat_minor": 5
}