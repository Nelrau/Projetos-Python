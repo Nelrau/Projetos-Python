{
  "cells": [
    {
      "cell_type": "markdown",
      "metadata": {
        "id": "view-in-github",
        "colab_type": "text"
      },
      "source": [
        "<a href=\"https://colab.research.google.com/github/Nelrau/Projetos-Python/blob/master/For_07.ipynb\" target=\"_parent\"><img src=\"https://colab.research.google.com/assets/colab-badge.svg\" alt=\"Open In Colab\"/></a>"
      ]
    },
    {
      "cell_type": "markdown",
      "metadata": {
        "id": "YTg4NcdyOk1r"
      },
      "source": [
        "# Formas de interromper um for\n",
        "\n",
        "### 2 Opções:\n",
        "\n",
        "- break -> interrompe e finaliza o for\n",
        "- continue -> interrompe e vai para o próximo item do for"
      ]
    },
    {
      "cell_type": "code",
      "execution_count": 1,
      "metadata": {
        "id": "Hqf7dn45Ok1z"
      },
      "outputs": [],
      "source": [
        "vendas = [100, 150, 1500, 2000, 120]"
      ]
    },
    {
      "cell_type": "markdown",
      "metadata": {
        "id": "s0BeQxumOk13"
      },
      "source": [
        "- Caso 1: Se todas as vendas forem acima da meta, a loja ganha bônus"
      ]
    },
    {
      "cell_type": "code",
      "execution_count": 3,
      "metadata": {
        "id": "S23Lean0Ok16",
        "outputId": "b84eea61-ee2a-4914-f9a2-88ce7a442e80",
        "colab": {
          "base_uri": "https://localhost:8080/"
        }
      },
      "outputs": [
        {
          "output_type": "stream",
          "name": "stdout",
          "text": [
            "acabou\n",
            "150\n"
          ]
        }
      ],
      "source": [
        "meta = 110\n",
        "for venda in vendas:\n",
        "  if venda >= meta:\n",
        "    print(venda)\n",
        "    break\n",
        "  print('acabou')"
      ]
    },
    {
      "cell_type": "markdown",
      "metadata": {
        "id": "o5qZk1KcOk18"
      },
      "source": [
        "- Caso 2: Exiba quem bateu a meta"
      ]
    },
    {
      "cell_type": "code",
      "execution_count": 4,
      "metadata": {
        "id": "PVyMdeYoOk1-",
        "outputId": "a820f3ef-f3eb-44f4-8ea0-0e216f32135b",
        "colab": {
          "base_uri": "https://localhost:8080/"
        }
      },
      "outputs": [
        {
          "output_type": "stream",
          "name": "stdout",
          "text": [
            "acabou\n",
            "150\n",
            "1500\n",
            "2000\n",
            "acabou\n"
          ]
        }
      ],
      "source": [
        "vendedores = ['João', 'Julia', 'Ana', 'José', 'Maria']\n",
        "meta = 130\n",
        "for venda in vendas:\n",
        "  if venda >= meta:\n",
        "    print(venda)\n",
        "    continue\n",
        "  print('acabou')"
      ]
    }
  ],
  "metadata": {
    "kernelspec": {
      "display_name": "Python 3",
      "language": "python",
      "name": "python3"
    },
    "language_info": {
      "codemirror_mode": {
        "name": "ipython",
        "version": 3
      },
      "file_extension": ".py",
      "mimetype": "text/x-python",
      "name": "python",
      "nbconvert_exporter": "python",
      "pygments_lexer": "ipython3",
      "version": "3.8.3"
    },
    "colab": {
      "provenance": [],
      "include_colab_link": true
    }
  },
  "nbformat": 4,
  "nbformat_minor": 0
}