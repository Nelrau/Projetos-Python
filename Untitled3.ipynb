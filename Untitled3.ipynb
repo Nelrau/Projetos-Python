{
  "nbformat": 4,
  "nbformat_minor": 0,
  "metadata": {
    "colab": {
      "provenance": [],
      "authorship_tag": "ABX9TyPcBcScs1EJVVnOjbUfUHzi",
      "include_colab_link": true
    },
    "kernelspec": {
      "name": "python3",
      "display_name": "Python 3"
    },
    "language_info": {
      "name": "python"
    }
  },
  "cells": [
    {
      "cell_type": "markdown",
      "metadata": {
        "id": "view-in-github",
        "colab_type": "text"
      },
      "source": [
        "<a href=\"https://colab.research.google.com/github/Nelrau/Projetos-Python/blob/master/Untitled3.ipynb\" target=\"_parent\"><img src=\"https://colab.research.google.com/assets/colab-badge.svg\" alt=\"Open In Colab\"/></a>"
      ]
    },
    {
      "cell_type": "code",
      "execution_count": 46,
      "metadata": {
        "id": "PKlXI2KtXQME"
      },
      "outputs": [],
      "source": [
        "e_alimentos = 50\n",
        "e_bebidas = 75\n",
        "e_limpeza = 30"
      ]
    },
    {
      "cell_type": "markdown",
      "source": [
        "**Usuario**"
      ],
      "metadata": {
        "id": "n6lSq4dEYXF0"
      }
    },
    {
      "cell_type": "code",
      "source": [
        "produto = input('Nome do produto: ')\n",
        "categoria = input('categoria: ')\n",
        "estoque = input('estoque: ')"
      ],
      "metadata": {
        "colab": {
          "base_uri": "https://localhost:8080/"
        },
        "id": "maIvGS6tYpbM",
        "outputId": "e98d5265-0f53-462c-93da-49b26f38c8f9"
      },
      "execution_count": 95,
      "outputs": [
        {
          "name": "stdout",
          "output_type": "stream",
          "text": [
            "Nome do produto: 4\n",
            "categoria: 5\n",
            "estoque: 5\n"
          ]
        }
      ]
    },
    {
      "cell_type": "code",
      "source": [
        "if produto and categoria and estoque:\n",
        "   if categoria == 'e_bebidas':\n",
        "      print(e_bebidas)\n",
        "      if int(estoque) < int(e_bebidas):\n",
        "         print(f'Solicitar {produto} a equipe de {categoria} temos apenas {estoque} em estoque')\n",
        "      else:\n",
        "         print(f'etoque de {produto} suficiente')\n",
        "   elif categoria == 'e_alimentos':\n",
        "      if int(estoque) < e_alimentos:\n",
        "         print(f'Solicitar {produto} a equipe de {categoria} temos apenas {estoque} em estoque')\n",
        "      else:\n",
        "        print(f'etoque de {produto} suficiente')\n",
        "   elif categoria == 'e_limpeza':\n",
        "      if int(estoque) < e_limpeza:\n",
        "        print(f'Solicitar {produto} a equipe de {categoria} temos apenas {estoque} em estoque')\n",
        "      else:\n",
        "        print(f'etoque de {produto} suficiente')\n",
        "   else:\n",
        "      print('erro no categoria')\n",
        "else:\n",
        "  print('erro na busca ')\n",
        "\n"
      ],
      "metadata": {
        "colab": {
          "base_uri": "https://localhost:8080/"
        },
        "id": "TC36XnFcZ3AV",
        "outputId": "57e4eaef-b482-4f7a-d70a-52b3131967d8"
      },
      "execution_count": 96,
      "outputs": [
        {
          "output_type": "stream",
          "name": "stdout",
          "text": [
            "erro no categoria\n"
          ]
        }
      ]
    }
  ]
}