{
  "cells": [
    {
      "cell_type": "markdown",
      "metadata": {
        "id": "view-in-github",
        "colab_type": "text"
      },
      "source": [
        "<a href=\"https://colab.research.google.com/github/Nelrau/Projetos-Python/blob/master/datetime_parte_01.ipynb\" target=\"_parent\"><img src=\"https://colab.research.google.com/assets/colab-badge.svg\" alt=\"Open In Colab\"/></a>"
      ]
    },
    {
      "cell_type": "markdown",
      "metadata": {
        "id": "0Th6NOBn4U0R"
      },
      "source": [
        "# Guia para o módulo `datetime` em Python\n",
        "\n",
        "O módulo `datetime` em Python fornece classes para manipulação de datas e horas. Aqui está um guia simples para algumas das funções mais úteis deste módulo.\n",
        "\n"
      ]
    },
    {
      "cell_type": "markdown",
      "metadata": {
        "id": "OO4rqUT54U0b"
      },
      "source": [
        "## datetime.datetime.now()\n",
        "\n",
        "A função `now()` retorna a data e a hora atuais.\n"
      ]
    },
    {
      "cell_type": "code",
      "execution_count": 1,
      "metadata": {
        "ExecuteTime": {
          "end_time": "2023-06-29T19:33:25.775838300Z",
          "start_time": "2023-06-29T19:33:25.769071200Z"
        },
        "jupyter": {
          "outputs_hidden": false
        },
        "colab": {
          "base_uri": "https://localhost:8080/"
        },
        "id": "o1BFLizR4U0u",
        "outputId": "00ea6d90-92f3-4a8f-c458-4b76fabf60f8"
      },
      "outputs": [
        {
          "output_type": "stream",
          "name": "stdout",
          "text": [
            "Agora: 2023-09-12 19:53:03.618301\n"
          ]
        }
      ],
      "source": [
        "from datetime import datetime\n",
        "\n",
        "agora = datetime.now()\n",
        "print(f\"Agora: {agora}\")"
      ]
    },
    {
      "cell_type": "code",
      "execution_count": 2,
      "metadata": {
        "ExecuteTime": {
          "end_time": "2023-06-29T19:33:25.790886Z",
          "start_time": "2023-06-29T19:33:25.778085800Z"
        },
        "jupyter": {
          "outputs_hidden": false
        },
        "colab": {
          "base_uri": "https://localhost:8080/"
        },
        "id": "uYXcrAij4U1K",
        "outputId": "8327a6b3-fb9d-46a4-e4f2-f9f0ed2c0ed4"
      },
      "outputs": [
        {
          "output_type": "stream",
          "name": "stdout",
          "text": [
            "Data: 2023-09-12\n",
            "Horário: 19:53:03.618301\n"
          ]
        }
      ],
      "source": [
        "print(f\"Data: {agora.date()}\")\n",
        "print(f\"Horário: {agora.time()}\")"
      ]
    },
    {
      "cell_type": "code",
      "execution_count": 6,
      "metadata": {
        "ExecuteTime": {
          "end_time": "2023-06-29T19:33:25.851047700Z",
          "start_time": "2023-06-29T19:33:25.790886Z"
        },
        "jupyter": {
          "outputs_hidden": false
        },
        "colab": {
          "base_uri": "https://localhost:8080/"
        },
        "id": "dSeeoAOX4U1Z",
        "outputId": "a3bfe0a9-ac6b-4ab3-9232-e724691a12af"
      },
      "outputs": [
        {
          "output_type": "stream",
          "name": "stdout",
          "text": [
            "Ano: 2023\n",
            "Mês: 9\n",
            "Dia: 12\n",
            "Hora: 16\n",
            "Minuto: 53\n",
            "Segundo: 3\n"
          ]
        }
      ],
      "source": [
        "print(f\"Ano: {agora.year}\")\n",
        "print(f\"Mês: {agora.month}\")\n",
        "print(f\"Dia: {agora.day}\")\n",
        "print(f\"Hora: {agora.hour-3}\")\n",
        "print(f\"Minuto: {agora.minute}\")\n",
        "print(f\"Segundo: {agora.second}\")"
      ]
    },
    {
      "cell_type": "markdown",
      "metadata": {
        "id": "EuC0Ob6C4U1s"
      },
      "source": [
        "## datetime.date.today()\n",
        "\n",
        "A função `today()` retorna a data atual.\n",
        "\n"
      ]
    },
    {
      "cell_type": "code",
      "execution_count": 7,
      "metadata": {
        "ExecuteTime": {
          "end_time": "2023-06-29T19:33:25.859322800Z",
          "start_time": "2023-06-29T19:33:25.807885200Z"
        },
        "jupyter": {
          "outputs_hidden": false
        },
        "colab": {
          "base_uri": "https://localhost:8080/"
        },
        "id": "CtX2VsKP4U1v",
        "outputId": "5ef180cf-fe48-4e4f-e58b-75d45bf5075a"
      },
      "outputs": [
        {
          "output_type": "stream",
          "name": "stdout",
          "text": [
            "Data atual: 2023-09-12\n"
          ]
        }
      ],
      "source": [
        "from datetime import date\n",
        "\n",
        "hoje = date.today()\n",
        "print(f\"Data atual: {hoje}\")"
      ]
    },
    {
      "cell_type": "code",
      "execution_count": 29,
      "metadata": {
        "ExecuteTime": {
          "end_time": "2023-06-29T19:33:25.859322800Z",
          "start_time": "2023-06-29T19:33:25.821498400Z"
        },
        "jupyter": {
          "outputs_hidden": false
        },
        "colab": {
          "base_uri": "https://localhost:8080/"
        },
        "id": "UfVql_Sb4U14",
        "outputId": "cb4052da-4542-476d-fc65-2661955931db"
      },
      "outputs": [
        {
          "output_type": "stream",
          "name": "stdout",
          "text": [
            "Ano: 2023\n",
            "Mês: 9\n",
            "Dia: 12\n"
          ]
        }
      ],
      "source": [
        "print(f\"Ano: {hoje.year}\")\n",
        "print(f\"Mês: {hoje.month}\")\n",
        "print(f\"Dia: {hoje.day}\")"
      ]
    },
    {
      "cell_type": "markdown",
      "metadata": {
        "id": "a3BZIygv4U18"
      },
      "source": [
        "## datetime.timedelta()\n",
        "\n",
        "A classe `timedelta` é usada para realizar operações com datas (adição e subtração).\n",
        "\n"
      ]
    },
    {
      "cell_type": "code",
      "execution_count": 9,
      "metadata": {
        "ExecuteTime": {
          "end_time": "2023-06-29T19:33:25.859322800Z",
          "start_time": "2023-06-29T19:33:25.839791600Z"
        },
        "jupyter": {
          "outputs_hidden": false
        },
        "colab": {
          "base_uri": "https://localhost:8080/"
        },
        "id": "AquDecoB4U2D",
        "outputId": "e6f72c49-65a5-411f-92f0-fbb9ac4cfe03"
      },
      "outputs": [
        {
          "output_type": "stream",
          "name": "stdout",
          "text": [
            "Data atual: 2023-09-12 19:55:21.957937\n",
            "Data 10 dias no futuro: 2023-09-22 19:55:21.957937\n",
            "Data 10 dias no passado: 2023-09-02 19:55:21.957937\n"
          ]
        }
      ],
      "source": [
        "from datetime import datetime, timedelta\n",
        "\n",
        "data_atual = datetime.now()\n",
        "print(f\"Data atual: {data_atual}\")\n",
        "\n",
        "data_futura = data_atual + timedelta(days=10)\n",
        "print(f\"Data 10 dias no futuro: {data_futura}\")\n",
        "\n",
        "data_passada = data_atual - timedelta(days=10)\n",
        "print(f\"Data 10 dias no passado: {data_passada}\")"
      ]
    },
    {
      "cell_type": "code",
      "execution_count": 10,
      "metadata": {
        "ExecuteTime": {
          "end_time": "2023-06-29T19:33:25.876449500Z",
          "start_time": "2023-06-29T19:33:25.853426300Z"
        },
        "jupyter": {
          "outputs_hidden": false
        },
        "colab": {
          "base_uri": "https://localhost:8080/"
        },
        "id": "0oiEirPN4U2a",
        "outputId": "561e9ac5-734e-4aa5-9661-2ca1fa1a7446"
      },
      "outputs": [
        {
          "output_type": "stream",
          "name": "stdout",
          "text": [
            "10 horas adiante: 2023-09-13 05:55:21.957937\n"
          ]
        }
      ],
      "source": [
        "dez_horas_adiante = data_atual + timedelta(hours=10)\n",
        "print(f\"10 horas adiante: {dez_horas_adiante}\")"
      ]
    },
    {
      "cell_type": "markdown",
      "metadata": {
        "id": "To3bBmRe4U2d"
      },
      "source": [
        "## Criação de um objeto datetime\n",
        "\n",
        "Podemos criar um objeto datetime usando a classe `datetime`. O construtor da classe possui como principais argumentos:\n",
        "\n",
        "- `year`: ano (por exemplo, 2023)\n",
        "- `month`: mês (1-12)\n",
        "- `day`: dia (1-31)\n",
        "- `hour`: hora (0-23)\n",
        "- `minute`: minuto (0-59)\n",
        "- `second`: segundo (0-59)\n",
        "- `microsecond`: microssegundo (0-999999)\n",
        "- `tzinfo`: fuso horário"
      ]
    },
    {
      "cell_type": "code",
      "execution_count": 11,
      "metadata": {
        "ExecuteTime": {
          "end_time": "2023-06-29T19:33:25.943922200Z",
          "start_time": "2023-06-29T19:33:25.869733200Z"
        },
        "jupyter": {
          "outputs_hidden": false
        },
        "colab": {
          "base_uri": "https://localhost:8080/"
        },
        "id": "8D1LyILU4U2i",
        "outputId": "d1f42d19-0767-440a-c535-7a1cb5d7e54b"
      },
      "outputs": [
        {
          "output_type": "stream",
          "name": "stdout",
          "text": [
            "Data: 2023-07-20 08:30:20\n"
          ]
        }
      ],
      "source": [
        "from datetime import datetime\n",
        "\n",
        "data = datetime(2023, 7, 20, 8, 30, 20)\n",
        "print(f\"Data: {data}\")\n"
      ]
    },
    {
      "cell_type": "code",
      "execution_count": 12,
      "metadata": {
        "ExecuteTime": {
          "end_time": "2023-06-29T19:33:25.959916600Z",
          "start_time": "2023-06-29T19:33:25.885747Z"
        },
        "jupyter": {
          "outputs_hidden": false
        },
        "colab": {
          "base_uri": "https://localhost:8080/"
        },
        "id": "Ld0gtUCK4U3A",
        "outputId": "25bc17b9-cd5b-4c1c-c315-65c8366d1eb9"
      },
      "outputs": [
        {
          "output_type": "stream",
          "name": "stdout",
          "text": [
            "Data: 2023-07-20 00:00:00\n"
          ]
        }
      ],
      "source": [
        "data = datetime(2023, 7, 20)\n",
        "print(f\"Data: {data}\")"
      ]
    },
    {
      "cell_type": "code",
      "execution_count": 13,
      "metadata": {
        "ExecuteTime": {
          "end_time": "2023-06-29T19:33:25.959916600Z",
          "start_time": "2023-06-29T19:33:25.901762400Z"
        },
        "jupyter": {
          "outputs_hidden": false
        },
        "colab": {
          "base_uri": "https://localhost:8080/"
        },
        "id": "euc8VBBY4U3D",
        "outputId": "a1ffb236-3060-4146-c4bb-0bbb77e53d6d"
      },
      "outputs": [
        {
          "output_type": "stream",
          "name": "stdout",
          "text": [
            "Data: 2023-07-20 08:30:20.100000\n"
          ]
        }
      ],
      "source": [
        "data = datetime(2023, 7, 20, 8, 30, 20, 100000)\n",
        "print(f\"Data: {data}\")"
      ]
    },
    {
      "cell_type": "markdown",
      "metadata": {
        "id": "gyOCvdya4U3G"
      },
      "source": [
        "`fromisoformat()` é um método de classe que converte uma string em um objeto datetime."
      ]
    },
    {
      "cell_type": "code",
      "execution_count": 33,
      "metadata": {
        "ExecuteTime": {
          "end_time": "2023-06-29T19:33:25.961156400Z",
          "start_time": "2023-06-29T19:33:25.915180700Z"
        },
        "jupyter": {
          "outputs_hidden": false
        },
        "colab": {
          "base_uri": "https://localhost:8080/"
        },
        "id": "RG46BU3b4U3I",
        "outputId": "2ec1c5dd-6f19-441c-f6d8-491564a774f8"
      },
      "outputs": [
        {
          "output_type": "stream",
          "name": "stdout",
          "text": [
            "Data/hora: 2023-06-26 15:30:20\n"
          ]
        }
      ],
      "source": [
        "data_hora_iso = datetime.fromisoformat(\"2023-06-26 15:30:20\")\n",
        "print(f\"Data/hora: {data_hora_iso}\")"
      ]
    },
    {
      "cell_type": "markdown",
      "metadata": {
        "id": "AkGV3VCV4U3M"
      },
      "source": [
        "## Calcular a diferença entre duas datas\n",
        "\n",
        "Podemos calcular a diferença entre duas datas subtraindo uma da outra. O resultado será um objeto timedelta.\n"
      ]
    },
    {
      "cell_type": "code",
      "execution_count": 22,
      "metadata": {
        "ExecuteTime": {
          "end_time": "2023-06-29T19:33:25.961658100Z",
          "start_time": "2023-06-29T19:33:25.932559400Z"
        },
        "jupyter": {
          "outputs_hidden": false
        },
        "colab": {
          "base_uri": "https://localhost:8080/"
        },
        "id": "rvxi8Hmm4U3N",
        "outputId": "f90fffe6-113e-4a1d-c568-84e025ea1c03"
      },
      "outputs": [
        {
          "output_type": "stream",
          "name": "stdout",
          "text": [
            "A diferença entre as duas datas é de 2 meses.\n"
          ]
        }
      ],
      "source": [
        "from datetime import datetime\n",
        "\n",
        "data1 = datetime(2023, 6, 25)\n",
        "data2 = datetime(2023, 9, 12)\n",
        "\n",
        "diferenca = (data2 - data1) /30\n",
        "print(f\"A diferença entre as duas datas é de {diferenca.days} meses.\")\n"
      ]
    },
    {
      "cell_type": "code",
      "execution_count": null,
      "metadata": {
        "ExecuteTime": {
          "end_time": "2023-06-29T19:33:25.961658100Z",
          "start_time": "2023-06-29T19:33:25.945989500Z"
        },
        "jupyter": {
          "outputs_hidden": false
        },
        "id": "ixse61Cb4U3Q",
        "outputId": "2e846875-5e47-419d-e7ab-4083ba59ccdb"
      },
      "outputs": [
        {
          "data": {
            "text/plain": [
              "datetime.timedelta"
            ]
          },
          "execution_count": 13,
          "metadata": {},
          "output_type": "execute_result"
        }
      ],
      "source": [
        "type(diferenca)"
      ]
    },
    {
      "cell_type": "code",
      "execution_count": 23,
      "metadata": {
        "tags": [],
        "colab": {
          "base_uri": "https://localhost:8080/"
        },
        "id": "8lr6F9mC4U3R",
        "outputId": "208dc3dd-0fff-447b-c05d-a4bd65a788ce"
      },
      "outputs": [
        {
          "output_type": "execute_result",
          "data": {
            "text/plain": [
              "2"
            ]
          },
          "metadata": {},
          "execution_count": 23
        }
      ],
      "source": [
        "diferenca.days"
      ]
    },
    {
      "cell_type": "markdown",
      "metadata": {
        "id": "HpMWljb_4U3T"
      },
      "source": [
        "## Comparação entre datas\n",
        "\n",
        "Podemos comparar datas usando os operadores de comparação padrão.\n",
        "\n",
        "Segue uma lógica intuitiva:\n",
        "\n",
        "    passado < presente < futuro\n"
      ]
    },
    {
      "cell_type": "code",
      "execution_count": 25,
      "metadata": {
        "ExecuteTime": {
          "end_time": "2023-06-29T19:33:26.062460100Z",
          "start_time": "2023-06-29T19:33:25.961658100Z"
        },
        "jupyter": {
          "outputs_hidden": false
        },
        "colab": {
          "base_uri": "https://localhost:8080/"
        },
        "id": "SzLTJCxe4U3V",
        "outputId": "e509f4ca-4e5e-45a2-9628-8a16eb8f78e0"
      },
      "outputs": [
        {
          "output_type": "stream",
          "name": "stdout",
          "text": [
            "A data1 é anterior à data2\n"
          ]
        }
      ],
      "source": [
        "from datetime import datetime\n",
        "\n",
        "data1 = datetime(2023, 7, 25)\n",
        "data2 = datetime(2023, 9, 12)\n",
        "\n",
        "if data1 > data2:\n",
        "    print(\"A data1 é posterior à data2\")\n",
        "elif data1 < data2:\n",
        "    print(\"A data1 é anterior à data2\")\n",
        "else:\n",
        "    print(\"As datas são iguais\")\n"
      ]
    },
    {
      "cell_type": "code",
      "execution_count": 26,
      "metadata": {
        "ExecuteTime": {
          "end_time": "2023-06-29T19:33:26.063474600Z",
          "start_time": "2023-06-29T19:33:25.977740Z"
        },
        "jupyter": {
          "outputs_hidden": false
        },
        "colab": {
          "base_uri": "https://localhost:8080/"
        },
        "id": "UXGR9bkB4U3u",
        "outputId": "bf696dbd-0cdc-4afa-ff1a-f053bf330567"
      },
      "outputs": [
        {
          "output_type": "stream",
          "name": "stdout",
          "text": [
            "A data1 é posterior à data2\n"
          ]
        }
      ],
      "source": [
        "data1 = datetime(2023, 7, 25, 8, 30, 30)\n",
        "data2 = datetime(2023, 7, 25, 8, 30, 20)\n",
        "\n",
        "if data1 > data2:\n",
        "    print(\"A data1 é posterior à data2\")\n",
        "elif data1 < data2:\n",
        "    print(\"A data1 é anterior à data2\")\n",
        "else:\n",
        "    print(\"As datas são iguais\")\n"
      ]
    },
    {
      "cell_type": "markdown",
      "metadata": {
        "id": "cGeID8Yb4U30"
      },
      "source": [
        "## Ordenando uma lista de datas\n",
        "\n",
        "Podemos usar a função `sorted` para ordenar uma lista de datas."
      ]
    },
    {
      "cell_type": "code",
      "execution_count": 27,
      "metadata": {
        "ExecuteTime": {
          "end_time": "2023-06-29T19:33:26.063474600Z",
          "start_time": "2023-06-29T19:33:25.992250700Z"
        },
        "jupyter": {
          "outputs_hidden": false
        },
        "colab": {
          "base_uri": "https://localhost:8080/"
        },
        "id": "SH6iiepm4U36",
        "outputId": "8a8ad468-9d60-429e-a03f-5772512eecf3"
      },
      "outputs": [
        {
          "output_type": "stream",
          "name": "stdout",
          "text": [
            "[datetime.datetime(2023, 5, 28, 0, 0), datetime.datetime(2023, 6, 18, 0, 0), datetime.datetime(2023, 6, 28, 0, 0), datetime.datetime(2023, 7, 28, 0, 0)]\n"
          ]
        }
      ],
      "source": [
        "from datetime import datetime\n",
        "\n",
        "datas = [\n",
        "    datetime(2023, 6, 28),\n",
        "    datetime(2023, 5, 28),\n",
        "    datetime(2023, 7, 28),\n",
        "    datetime(2023, 6, 18),\n",
        "]\n",
        "\n",
        "datas_ordenadas = sorted(datas)\n",
        "\n",
        "print(datas_ordenadas)"
      ]
    },
    {
      "cell_type": "code",
      "execution_count": 28,
      "metadata": {
        "ExecuteTime": {
          "end_time": "2023-06-29T19:33:26.063474600Z",
          "start_time": "2023-06-29T19:33:26.008810900Z"
        },
        "jupyter": {
          "outputs_hidden": false
        },
        "tags": [],
        "colab": {
          "base_uri": "https://localhost:8080/"
        },
        "id": "zgARBsyx4U37",
        "outputId": "df652ff0-9b5c-43ea-96cd-53b78854e41a"
      },
      "outputs": [
        {
          "output_type": "stream",
          "name": "stdout",
          "text": [
            "2023-05-28\n",
            "2023-06-18\n",
            "2023-06-28\n",
            "2023-07-28\n"
          ]
        }
      ],
      "source": [
        "for data in datas_ordenadas:\n",
        "    print(data.date())\n"
      ]
    }
  ],
  "metadata": {
    "kernelspec": {
      "display_name": "Python 3 (ipykernel)",
      "language": "python",
      "name": "python3"
    },
    "language_info": {
      "codemirror_mode": {
        "name": "ipython",
        "version": 3
      },
      "file_extension": ".py",
      "mimetype": "text/x-python",
      "name": "python",
      "nbconvert_exporter": "python",
      "pygments_lexer": "ipython3",
      "version": "3.10.11"
    },
    "colab": {
      "provenance": [],
      "include_colab_link": true
    }
  },
  "nbformat": 4,
  "nbformat_minor": 0
}