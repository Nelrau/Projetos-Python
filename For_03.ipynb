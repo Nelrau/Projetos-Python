{
  "cells": [
    {
      "cell_type": "markdown",
      "metadata": {
        "id": "view-in-github",
        "colab_type": "text"
      },
      "source": [
        "<a href=\"https://colab.research.google.com/github/Nelrau/Projetos-Python/blob/master/For_03.ipynb\" target=\"_parent\"><img src=\"https://colab.research.google.com/assets/colab-badge.svg\" alt=\"Open In Colab\"/></a>"
      ]
    },
    {
      "cell_type": "markdown",
      "metadata": {
        "id": "HgnI22FL9yBL"
      },
      "source": [
        "# for + if\n",
        "\n",
        "### Estrutura:"
      ]
    },
    {
      "cell_type": "raw",
      "metadata": {
        "id": "1h2wZ5eu9yBc"
      },
      "source": [
        "for item in lista:\n",
        "    if condicao:\n",
        "        faça alguma coisa\n",
        "    else:\n",
        "        outra coisa"
      ]
    },
    {
      "cell_type": "markdown",
      "metadata": {
        "id": "iXroVTcx9yBf"
      },
      "source": [
        "Digamos que a gente esteja analisando a meta de vendas de vários funcionários de uma empresa. A meta de vendas é de 1000 reais em 1 dia.\n",
        "\n",
        "Temos uma lista com as vendas de todos os funcionários e quero calcular qual o % de pessoas que bateram a meta."
      ]
    },
    {
      "cell_type": "code",
      "execution_count": null,
      "metadata": {
        "id": "84dOXNQx9yBx"
      },
      "outputs": [],
      "source": [
        "vendas = [1200, 300, 800, 1500, 1900, 2750, 400, 20, 23, 70, 90, 80, 1100, 999, 900, 880, 870, 50, 1111, 120, 300, 450, 800]\n",
        "meta = 1000"
      ]
    },
    {
      "cell_type": "code",
      "source": [
        "c = 0\n",
        "for venda in vendas:\n",
        "  if venda >= meta:\n",
        "    c += 1\n",
        "por = c / len(vendas)\n",
        "print(f'percentual: {por:.2%} alcançaram a meta')"
      ],
      "metadata": {
        "id": "r1bKOkJ-903A",
        "outputId": "84648ed6-f068-49de-e60a-097e670f3931",
        "colab": {
          "base_uri": "https://localhost:8080/"
        }
      },
      "execution_count": 30,
      "outputs": [
        {
          "output_type": "stream",
          "name": "stdout",
          "text": [
            "percentual: 26.09% alcançaram a meta\n"
          ]
        }
      ]
    }
  ],
  "metadata": {
    "kernelspec": {
      "display_name": "Python 3",
      "language": "python",
      "name": "python3"
    },
    "language_info": {
      "codemirror_mode": {
        "name": "ipython",
        "version": 3
      },
      "file_extension": ".py",
      "mimetype": "text/x-python",
      "name": "python",
      "nbconvert_exporter": "python",
      "pygments_lexer": "ipython3",
      "version": "3.8.3"
    },
    "colab": {
      "provenance": [],
      "include_colab_link": true
    }
  },
  "nbformat": 4,
  "nbformat_minor": 0
}